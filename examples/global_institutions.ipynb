{
 "cells": [
  {
   "cell_type": "code",
   "execution_count": null,
   "metadata": {},
   "outputs": [],
   "source": [
    "import sys\n",
    "import os\n",
    "\n",
    "env = \"colab\" # \"colab\" or \"local\"\n",
    "\n",
    "if env == \"colab\":\n",
    "    %cd /content/sample_data/\n",
    "    !git clone https://github.com/ScisciJP/scisciJP2024_tutorial.git\n",
    "    path = '/content/sample_data/scisciJP2024_tutorial'\n",
    "if env == \"local\":\n",
    "    path = 'YOUR_PATH'\n",
    "\n",
    "sys.path.append(path)\n",
    "print(os.getcwd())\n",
    "\n",
    "os.chdir(path)\n",
    "sys.path"
   ]
  },
  {
   "cell_type": "code",
   "execution_count": null,
   "metadata": {},
   "outputs": [],
   "source": [
    "%pip install pyalex \n",
    "%pip install japanize_matplotlib \n",
    "from pyalex import Works, Authors, Sources, Institutions, Concepts, Funders\n",
    "import pyalex\n",
    "\n",
    "import pandas as pd\n",
    "import numpy as np\n",
    "import math\n",
    "import tqdm\n",
    "import matplotlib.pyplot as plt\n",
    "import japanize_matplotlib\n",
    "\n",
    "import util"
   ]
  },
  {
   "cell_type": "code",
   "execution_count": null,
   "metadata": {},
   "outputs": [],
   "source": [
    "pyalex.config.email = \"your@email.address\" "
   ]
  },
  {
   "cell_type": "code",
   "execution_count": null,
   "metadata": {},
   "outputs": [],
   "source": [
    "# institutions_subset = util.getAll(Institutions().filter(country_code=\"JP\", works_count=\">50\").select([\"id\",\"display_name\",\"works_count\",\"summary_stats\"]))\n",
    "# pd.to_pickle(pd.DataFrame(institutions_subset), \"./supplementary/institutions_subset.pickle\")\n",
    "\n",
    "institutions_subset = pd.read_pickle(\"./supplementary/institutions_subset.pickle\")\n",
    "topics = pd.read_csv(\"./supplementary/OpenAlex_topic_mapping_table.csv\")\n",
    "subfields = topics[[\"subfield_id\",\"subfield_name\"]].drop_duplicates().set_index(\"subfield_id\")"
   ]
  },
  {
   "cell_type": "code",
   "execution_count": null,
   "metadata": {},
   "outputs": [],
   "source": [
    "import warnings\n",
    "warnings.filterwarnings(\"ignore\", message=\"Boolean Series key will be reindexed to match DataFrame index\")\n",
    "\n",
    "sample_subfields = subfields.sample(15).index\n",
    "for field_id in sample_subfields:\n",
    "    pyalexObj = Works().filter(primary_topic={\"subfield\":{\"id\":field_id}},\n",
    "                            institutions_distinct_count=\">1\", \n",
    "                            cited_by_count=\">0\",\n",
    "                            authorships={\"institutions\":{\"country_code\":\"JP\"}},\n",
    "                            from_publication_date=\"2010-01-01\")\\\n",
    "                        .select([\"id\",\"authorships\",\"display_name\"])\n",
    "    count = min(5000, pyalexObj.count())\n",
    "    print(\"分野：\",subfields.loc[field_id,\"subfield_name\"],\"における複数機関の共著論文を取得中\")\n",
    "    w = util.getAll(pyalexObj.sample(count,seed=42))\n",
    "    for i in range(len(w)):\n",
    "        w[i][\"institutions\"] = list(map(lambda a: a[\"institutions\"][0][\"id\"] if len(a['institutions'])>0 else None, w[i][\"authorships\"]))\n",
    "        w[i][\"countries\"] = list(map(lambda a: a[\"institutions\"][0][\"country_code\"] if len(a['institutions'])>0 else None, w[i][\"authorships\"]))\n",
    "    works = pd.DataFrame(w).explode(column=[\"institutions\",\"countries\"])\\\n",
    "        .dropna(subset=[\"institutions\"])\\\n",
    "        .drop_duplicates(subset=[\"id\",\"institutions\"])\n",
    "\n",
    "    i11l_works = works[works[\"countries\"].groupby(level=0).nunique()>1]\n",
    "    i11l_institutions = i11l_works[i11l_works[\"countries\"]==\"JP\"].value_counts(\"institutions\")\n",
    "    top_institutions = pd.merge(i11l_institutions, pd.DataFrame(institutions_subset),how=\"left\", left_index=True, right_on=\"id\").set_index(\"id\")\n",
    "    print(subfields.loc[field_id,\"subfield_name\"])\n",
    "    print(top_institutions[[\"display_name\",\"count\"]].rename(columns={\"display_name\":\"機関名\", \"count\":\"国際共著\"}).head(5))\n",
    "    print(\"---------------\")"
   ]
  }
 ],
 "metadata": {
  "language_info": {
   "name": "python"
  }
 },
 "nbformat": 4,
 "nbformat_minor": 2
}
